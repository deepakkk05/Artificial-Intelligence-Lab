{
 "cells": [
  {
   "cell_type": "code",
   "execution_count": 1,
   "metadata": {
    "colab": {
     "base_uri": "https://localhost:8080/"
    },
    "id": "5rUH3XUwR3Wd",
    "outputId": "d43a7529-13a0-42c8-fd29-3f8ca354f304"
   },
   "outputs": [
    {
     "name": "stdout",
     "output_type": "stream",
     "text": [
      "Welcome to the Course Advisor Expert System!\n",
      "\n",
      "Hi Deepak Yadav, based on your interest in 'Ai/Ml' and background in 'Deepak', we recommend: Please provide valid background and interest.\n"
     ]
    }
   ],
   "source": [
    "def course_advisor():\n",
    "    print(\"Welcome to the Course Advisor Expert System!\")\n",
    "    name = input(\"Enter your name: \")\n",
    "    background = input(\"What is your academic background?: \").lower()\n",
    "    interest = input(\"What is your area of interest?: \").lower()\n",
    "\n",
    "    if background == \"science\":\n",
    "        if interest in [\"ai\", \"data science\", \"ml\", \"machine learning\"]:\n",
    "            course = \"B.Tech in Artificial Intelligence and Data Science\"\n",
    "        elif interest in [\"biology\", \"medicine\"]:\n",
    "            course = \"MBBS or B.Sc in Biotechnology\"\n",
    "        else:\n",
    "            course = \"B.Sc in Pure Sciences (Physics, Chemistry, Maths)\"\n",
    "    elif background == \"commerce\":\n",
    "        if interest in [\"finance\", \"economics\"]:\n",
    "            course = \"B.Com (Hons) or BBA in Finance\"\n",
    "        elif interest == \"accounting\":\n",
    "            course = \"Chartered Accountancy (CA)\"\n",
    "        else:\n",
    "            course = \"Bachelor in Business Administration (BBA)\"\n",
    "    elif background == \"arts\":\n",
    "        if interest in [\"psychology\", \"counseling\"]:\n",
    "            course = \"B.A. in Psychology\"\n",
    "        elif interest == \"design\":\n",
    "            course = \"Bachelor of Design (B.Des)\"\n",
    "        else:\n",
    "            course = \"B.A. in Humanities\"\n",
    "    else:\n",
    "        course = \"Please provide valid background and interest.\"\n",
    "\n",
    "    print(f\"\\nHi {name}, based on your interest in '{interest.title()}' and background in '{background.title()}', we recommend: {course}\")\n",
    "\n",
    "course_advisor()\n"
   ]
  },
  {
   "cell_type": "code",
   "execution_count": 1,
   "metadata": {
    "colab": {
     "base_uri": "https://localhost:8080/"
    },
    "id": "2i207FSAUYV6",
    "outputId": "c5cc712b-da02-429a-d8c6-b971e5a47cc4"
   },
   "outputs": [
    {
     "name": "stdout",
     "output_type": "stream",
     "text": [
      "\n",
      "Medical Expert System Evaluation\n"
     ]
    },
    {
     "name": "stdout",
     "output_type": "stream",
     "text": [
      "Enter accuracy of the system (0 to 100):  45\n",
      "Enter average response time in seconds:  5\n",
      "Enter user feedback score (1 to 5):  2\n"
     ]
    },
    {
     "name": "stdout",
     "output_type": "stream",
     "text": [
      "\n",
      "Performance Summary:\n",
      "The medical expert system performance is POOR. Major improvements are needed.\n"
     ]
    }
   ],
   "source": [
    "#### Case Study 2: Medical Expert System Evaluation\n",
    "\n",
    "def evaluate_medical_system():\n",
    "    print(\"\\nMedical Expert System Evaluation\")\n",
    "\n",
    "    accuracy = float(input(\"Enter accuracy of the system (0 to 100): \"))\n",
    "    response_time = float(input(\"Enter average response time in seconds: \"))\n",
    "    user_feedback = int(input(\"Enter user feedback score (1 to 5): \"))\n",
    "\n",
    "    # Performance Score Evaluation\n",
    "    score = 0\n",
    "    if accuracy >= 90:\n",
    "        score += 3\n",
    "    elif 80 <= accuracy < 90:\n",
    "        score += 2\n",
    "    else:\n",
    "        score += 1\n",
    "\n",
    "    if response_time <= 2:\n",
    "        score += 3\n",
    "    elif 2 < response_time <= 5:\n",
    "        score += 2\n",
    "    else:\n",
    "        score += 1\n",
    "\n",
    "    if user_feedback >= 4:\n",
    "        score += 3\n",
    "    elif user_feedback >= 2:\n",
    "        score += 2\n",
    "    else:\n",
    "        score += 1\n",
    "\n",
    "    # Assessment\n",
    "    print(\"\\nPerformance Summary:\")\n",
    "    if score >= 8:\n",
    "        print(\"The medical expert system is performing EXCELLENTLY\")\n",
    "    elif 6 <= score < 8:\n",
    "        print(\"The medical expert system is performing ADEQUATELY, but improvements are suggested.\")\n",
    "    else:\n",
    "        print(\"The medical expert system performance is POOR. Major improvements are needed.\")\n",
    "\n",
    "\n",
    "evaluate_medical_system()\n"
   ]
  },
  {
   "cell_type": "code",
   "execution_count": 3,
   "metadata": {
    "colab": {
     "base_uri": "https://localhost:8080/"
    },
    "id": "A3dP5z72VBP8",
    "outputId": "d7286d8a-dc07-41be-f784-a1eeb8a89db1"
   },
   "outputs": [
    {
     "name": "stdout",
     "output_type": "stream",
     "text": [
      " Sentiment Analysis using TextBlob\n"
     ]
    },
    {
     "name": "stdout",
     "output_type": "stream",
     "text": [
      "Enter a sentence:  my name is tarun, i am the leader of the group\n"
     ]
    },
    {
     "name": "stdout",
     "output_type": "stream",
     "text": [
      "\n",
      "Sentiment Polarity Score: 0.0\n",
      "Overall Sentiment: Neutral \n"
     ]
    }
   ],
   "source": [
    "from textblob import TextBlob\n",
    "\n",
    "def analyze_sentiment(text):\n",
    "    blob = TextBlob(text)\n",
    "    polarity = blob.sentiment.polarity\n",
    "\n",
    "    if polarity > 0:\n",
    "        sentiment = \"Positive \"\n",
    "    elif polarity < 0:\n",
    "        sentiment = \"Negative \"\n",
    "    else:\n",
    "        sentiment = \"Neutral \"\n",
    "\n",
    "    return polarity, sentiment\n",
    "\n",
    "def main():\n",
    "    print(\" Sentiment Analysis using TextBlob\")\n",
    "    text = input(\"Enter a sentence: \")\n",
    "    polarity, sentiment = analyze_sentiment(text)\n",
    "    print(f\"\\nSentiment Polarity Score: {polarity}\")\n",
    "    print(f\"Overall Sentiment: {sentiment}\")\n",
    "\n",
    "if __name__ == \"__main__\":\n",
    "    main()\n"
   ]
  },
  {
   "cell_type": "code",
   "execution_count": 5,
   "metadata": {
    "id": "itcQ0gpPZL5D"
   },
   "outputs": [],
   "source": [
    "import pandas as pd\n",
    "import numpy as np\n",
    "from sklearn.model_selection import train_test_split\n",
    "from sklearn.feature_extraction.text import TfidfVectorizer\n",
    "from sklearn.linear_model import LogisticRegression\n",
    "from sklearn.metrics import accuracy_score, classification_report, confusion_matrix\n"
   ]
  },
  {
   "cell_type": "code",
   "execution_count": null,
   "metadata": {
    "id": "caGeC4lAZU3E"
   },
   "outputs": [],
   "source": [
    "df=pd.read_csv('/content/fake_news_dataset.csv')"
   ]
  },
  {
   "cell_type": "code",
   "execution_count": null,
   "metadata": {
    "colab": {
     "base_uri": "https://localhost:8080/"
    },
    "id": "t0WuNQLhZxaE",
    "outputId": "050174ea-d2af-4ed8-eabd-fa189d6d3302"
   },
   "outputs": [],
   "source": [
    "df.shape"
   ]
  },
  {
   "cell_type": "code",
   "execution_count": null,
   "metadata": {
    "colab": {
     "base_uri": "https://localhost:8080/",
     "height": 863
    },
    "id": "bOwB31ofaTRH",
    "outputId": "83a21f4a-7012-494d-a153-5c41865f9ade"
   },
   "outputs": [],
   "source": [
    "df.head()"
   ]
  },
  {
   "cell_type": "code",
   "execution_count": null,
   "metadata": {
    "id": "zk9brWoFao_K"
   },
   "outputs": [],
   "source": [
    "df = df.dropna()\n",
    "X = df['text']\n",
    "y = df['label']"
   ]
  },
  {
   "cell_type": "code",
   "execution_count": null,
   "metadata": {
    "id": "8zRa8-3haqWQ"
   },
   "outputs": [],
   "source": [
    "X_train, X_test, y_train, y_test = train_test_split(X, y, test_size=0.2, random_state=42)"
   ]
  },
  {
   "cell_type": "code",
   "execution_count": null,
   "metadata": {
    "id": "VuEpcwz3auo4"
   },
   "outputs": [],
   "source": [
    "vectorizer = TfidfVectorizer(stop_words='english', max_df=0.7)\n",
    "X_train_tfidf = vectorizer.fit_transform(X_train)\n",
    "X_test_tfidf = vectorizer.transform(X_test)"
   ]
  },
  {
   "cell_type": "code",
   "execution_count": null,
   "metadata": {
    "id": "GrLJe2uPaziu"
   },
   "outputs": [],
   "source": [
    "model = LogisticRegression()\n",
    "model.fit(X_train_tfidf, y_train)\n",
    "\n",
    "# Make predictions\n",
    "y_pred = model.predict(X_test_tfidf)"
   ]
  },
  {
   "cell_type": "code",
   "execution_count": null,
   "metadata": {
    "colab": {
     "base_uri": "https://localhost:8080/"
    },
    "id": "jUG43XLda29N",
    "outputId": "93826e59-c37e-44cb-e834-50b8062902a0"
   },
   "outputs": [],
   "source": [
    "print( accuracy_score(y_test, y_pred))\n",
    "print( classification_report(y_test, y_pred))\n",
    "print( confusion_matrix(y_test, y_pred))"
   ]
  },
  {
   "cell_type": "code",
   "execution_count": null,
   "metadata": {
    "colab": {
     "base_uri": "https://localhost:8080/"
    },
    "id": "B-Bgjkt6bD1w",
    "outputId": "69c4d66b-f299-4d03-f55a-df2f8284171a"
   },
   "outputs": [],
   "source": [
    "user_input = input(\"News: \")\n",
    "user_tfidf = vectorizer.transform([user_input])\n",
    "prediction = model.predict(user_tfidf)\n",
    "print(\"Prediction:\", \"🟢 Real News\" if prediction[0] == 0 else \"🔴 Fake News\")"
   ]
  }
 ],
 "metadata": {
  "colab": {
   "provenance": []
  },
  "kernelspec": {
   "display_name": "Python 3",
   "language": "python",
   "name": "python3"
  },
  "language_info": {
   "codemirror_mode": {
    "name": "ipython",
    "version": 3
   },
   "file_extension": ".py",
   "mimetype": "text/x-python",
   "name": "python",
   "nbconvert_exporter": "python",
   "pygments_lexer": "ipython3",
   "version": "3.11.0"
  }
 },
 "nbformat": 4,
 "nbformat_minor": 4
}
